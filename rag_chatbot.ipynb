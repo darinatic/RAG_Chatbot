{
 "cells": [
  {
   "cell_type": "markdown",
   "id": "7f228786",
   "metadata": {},
   "source": [
    "# RAG Chatbot for Primary School Students\n",
    "## Knowledge Base: Cells and Chemistry of Life\n",
    "\n",
    "This notebook demonstrates a complete RAG (Retrieval-Augmented Generation) chatbot system using:\n",
    "- **Local LLM**: Ollama Gemma3:4b\n",
    "- **Knowledge Base**: Cells and Chemistry of Life.pdf  \n",
    "- **Vector Store**: FAISS with sentence transformers\n",
    "- **Evaluation**: RAGAS framework with MLflow tracking\n",
    "- **Target Audience**: Primary school students (ages 6-12)"
   ]
  },
  {
   "cell_type": "code",
   "execution_count": 1,
   "id": "f3d16ffd",
   "metadata": {},
   "outputs": [
    {
     "name": "stdout",
     "output_type": "stream",
     "text": [
      "All modules imported successfully!\n",
      "OpenAI API key loaded successfully!\n",
      "MLflow experiment initialized!\n",
      "Looking for PDF: data/Cells and Chemistry of Life.pdf\n"
     ]
    }
   ],
   "source": [
    "import sys\n",
    "import os\n",
    "sys.path.append('src')\n",
    "\n",
    "from dotenv import load_dotenv\n",
    "load_dotenv()\n",
    "\n",
    "from src import Config, DocumentProcessor, VectorStore, RAGChatbot, RAGASEvaluator\n",
    "import mlflow\n",
    "import mlflow.sklearn\n",
    "from datetime import datetime\n",
    "import warnings\n",
    "warnings.filterwarnings('ignore')\n",
    "\n",
    "print(\"All modules imported successfully!\")\n",
    "\n",
    "# Validate API key availability\n",
    "config = Config()\n",
    "api_key_available = config.validate_api_key()\n",
    "\n",
    "if api_key_available:\n",
    "    print(\"OpenAI API key loaded successfully!\")\n",
    "else:\n",
    "    print(\"WARNING: OpenAI API key not found - RAGAS evaluation will fail\")\n",
    "    print(\"Please check your .env file\")\n",
    "\n",
    "# Initialize MLflow\n",
    "mlflow.set_experiment(\"RAG_Chatbot_RAGAS_Evaluation\")\n",
    "print(\"MLflow experiment initialized!\")\n",
    "\n",
    "print(f\"Looking for PDF: {config.DATA_DIR}/{config.PDF_FILE}\")"
   ]
  },
  {
   "cell_type": "markdown",
   "id": "006b1223",
   "metadata": {},
   "source": [
    "## 2. Document Processing\n",
    "Load and process the \"Cells and Chemistry of Life.pdf\" document"
   ]
  },
  {
   "cell_type": "code",
   "execution_count": 2,
   "id": "16c3e1b4",
   "metadata": {},
   "outputs": [
    {
     "name": "stdout",
     "output_type": "stream",
     "text": [
      "Successfully loaded PDF: 109283 characters\n",
      "Created 289 chunks\n",
      "\n",
      " Document Processing Results:\n",
      "   Total chunks: 289\n",
      "   Average chunk size: 384 characters\n",
      "\n",
      " Sample chunk:\n",
      "   2 Chapter 1 Cells and the Chemistry of LifeCell Structure and OrganisationChapter 1 Imagining Cells as Chemical Factories All living things are made up of billions of tiny cells, just as a building is...\n"
     ]
    }
   ],
   "source": [
    "# Initialize document processor and load PDF\n",
    "doc_processor = DocumentProcessor(config)\n",
    "\n",
    "chunks = doc_processor.process_document()\n",
    "\n",
    "if chunks:\n",
    "    print(f\"\\n Document Processing Results:\")\n",
    "    print(f\"   Total chunks: {len(chunks)}\")\n",
    "    print(f\"   Average chunk size: {sum(len(c['content']) for c in chunks) // len(chunks)} characters\")\n",
    "    print(f\"\\n Sample chunk:\")\n",
    "    print(f\"   {chunks[0]['content'][:200]}...\")\n",
    "else:\n",
    "    print(\"No chunks created. Please check if the PDF file exists in the data/ directory.\")"
   ]
  },
  {
   "cell_type": "markdown",
   "id": "392eb537",
   "metadata": {},
   "source": [
    "## 3. Vector Store Setup\n",
    "Create embeddings and build FAISS index for similarity search"
   ]
  },
  {
   "cell_type": "code",
   "execution_count": 3,
   "id": "bf6c36cb",
   "metadata": {},
   "outputs": [
    {
     "name": "stdout",
     "output_type": "stream",
     "text": [
      "Loading embedding model...\n",
      "Embedding model loaded. Dimension: 384\n",
      "Index loaded from faiss_index.bin\n",
      "\n",
      "Vector Store Ready!\n",
      " Index size: 289 vectors\n",
      " Embedding dimension: 384\n"
     ]
    }
   ],
   "source": [
    "# Initialize vector store\n",
    "vector_store = VectorStore(config)\n",
    "\n",
    "# Try to load existing index, otherwise create new one\n",
    "if not vector_store.load_index():\n",
    "    print(\"Creating new vector index...\")\n",
    "    vector_store.setup_from_chunks(chunks)\n",
    "    vector_store.save_index()\n",
    "\n",
    "print(f\"\\nVector Store Ready!\")\n",
    "print(f\" Index size: {vector_store.index.ntotal} vectors\")\n",
    "print(f\" Embedding dimension: {vector_store.dimension}\")"
   ]
  },
  {
   "cell_type": "markdown",
   "id": "1f204788",
   "metadata": {},
   "source": [
    "## 4. RAG Chatbot Initialization\n",
    "Initialize the chatbot with Ollama integration"
   ]
  },
  {
   "cell_type": "code",
   "execution_count": 4,
   "id": "7641f398",
   "metadata": {},
   "outputs": [
    {
     "name": "stdout",
     "output_type": "stream",
     "text": [
      "Ollama connected - gemma3:4b available\n",
      "RAG Chatbot initialized successfully!\n",
      "Model: gemma3:4b\n",
      "Similarity threshold: 0.5\n",
      "Top-K retrieval: 5\n"
     ]
    }
   ],
   "source": [
    "try:\n",
    "    chatbot = RAGChatbot(vector_store, config)\n",
    "    print(\"RAG Chatbot initialized successfully!\")\n",
    "    print(f\"Model: {config.OLLAMA_MODEL}\")\n",
    "    print(f\"Similarity threshold: {config.SIMILARITY_THRESHOLD}\")\n",
    "    print(f\"Top-K retrieval: {config.TOP_K_DOCS}\")\n",
    "except Exception as e:\n",
    "    print(f\"Failed to initialize chatbot: {str(e)}\")"
   ]
  },
  {
   "cell_type": "markdown",
   "id": "66c492d8",
   "metadata": {},
   "source": [
    "## 6. Custom Question Testing\n",
    "Ask your own questions to the chatbot"
   ]
  },
  {
   "cell_type": "code",
   "execution_count": null,
   "id": "40a3d641",
   "metadata": {},
   "outputs": [
    {
     "name": "stdout",
     "output_type": "stream",
     "text": [
      "Question: What is the main function of mitochondria in a cell?\n",
      "Answer: That’s a great question! Mitochondria are like the cell’s tiny powerhouses. They help the cell make energy, kind of like how you need energy to run and play!\n",
      "Details: In scope: True | Confidence: 0.567\n",
      "Question: How does the structure of a red blood cell help it transport oxygen?\n",
      "Answer: That’s a great question! Red blood cells are really clever! They have a special shape – like a little donut – which makes them super good at carrying oxygen around your body. This shape gives them lots of space to hold onto oxygen, like a little backpack!\n",
      "Details: In scope: True | Confidence: 0.553\n",
      "Question: What is diffusion?\n",
      "Answer: Diffusion is like when you smell yummy cookies baking! It’s when tiny bits of something, like the perfume, spread out from where there’s lots of them to where there are fewer. The smell travels until it’s spread out evenly – that’s diffusion!\n",
      "Details: In scope: True | Confidence: 0.666\n",
      "Question: How is the rough endoplasmic reticulum (RER) involved in protein transport?\n",
      "Answer: That’s a great question! The rough endoplasmic reticulum, or RER, is like a busy factory inside your cells. It has tiny helpers called ribosomes attached to it, and these ribosomes help make proteins! The RER then sends these proteins out of the cell, like sending packages to different places.\n",
      "Details: In scope: True | Confidence: 0.635\n",
      "Question: What structures are found only in plant cells and not in animal cells?\n",
      "Answer: Okay, great question! \n",
      "\n",
      "Only plant cells have a cell wall, which is like a strong fence around the cell to keep it in shape and protect it. They also have chloroplasts, which are like tiny kitchens that make food for the plant using sunlight!\n",
      "Details: In scope: True | Confidence: 0.669\n"
     ]
    },
    {
     "data": {
      "text/plain": [
       "{'query': 'What structures are found only in plant cells and not in animal cells?',\n",
       " 'answer': 'Okay, great question! \\n\\nOnly plant cells have a cell wall, which is like a strong fence around the cell to keep it in shape and protect it. They also have chloroplasts, which are like tiny kitchens that make food for the plant using sunlight!',\n",
       " 'in_scope': True,\n",
       " 'confidence': 0.6687755465507508,\n",
       " 'chunks_used': 5}"
      ]
     },
     "execution_count": 5,
     "metadata": {},
     "output_type": "execute_result"
    }
   ],
   "source": [
    "# Interactive question function\n",
    "def ask_question(question: str):\n",
    "    \"\"\"Ask a question to the chatbot and display results\"\"\"\n",
    "    result = chatbot.answer(question)\n",
    "    \n",
    "    print(f\"Question: {question}\")\n",
    "    print(f\"Answer: {result['answer']}\")\n",
    "    print(f\"Details: In scope: {result['in_scope']} | Confidence: {result['confidence']:.3f}\")\n",
    "    \n",
    "    # return result\n",
    "\n",
    "ask_question(\"What is the main function of mitochondria in a cell?\")\n",
    "\n",
    "ask_question(\"How does the structure of a red blood cell help it transport oxygen?\")\n",
    "\n",
    "ask_question(\"What is diffusion?\")\n",
    "\n",
    "ask_question(\"How is the rough endoplasmic reticulum (RER) involved in protein transport?\")\n",
    "\n",
    "ask_question(\"What structures are found only in plant cells and not in animal cells?\")"
   ]
  },
  {
   "cell_type": "markdown",
   "id": "727047a8",
   "metadata": {},
   "source": [
    "## 7. RAGAS Evaluation with MLflow Tracking\n",
    "Evaluate the chatbot performance using RAGAS metrics and track with MLflow"
   ]
  },
  {
   "cell_type": "code",
   "execution_count": 6,
   "id": "df3eea86",
   "metadata": {},
   "outputs": [
    {
     "name": "stdout",
     "output_type": "stream",
     "text": [
      "Test cases for evaluation:\n",
      "   1. What is the main function of mitochondria in a cell?\n",
      "   2. How does the structure of a red blood cell help it transport oxygen?\n",
      "   3. What is diffusion?\n",
      "   4. How is the rough endoplasmic reticulum (RER) involved in protein transport?\n",
      "   5. What structures are found only in plant cells and not in animal cells?\n",
      "\n",
      "Running RAGAS evaluation with 5 test cases...\n"
     ]
    },
    {
     "data": {
      "application/vnd.jupyter.widget-view+json": {
       "model_id": "717733928862450983de5bccfdc9b6de",
       "version_major": 2,
       "version_minor": 0
      },
      "text/plain": [
       "Evaluating:   0%|          | 0/20 [00:00<?, ?it/s]"
      ]
     },
     "metadata": {},
     "output_type": "display_data"
    },
    {
     "name": "stdout",
     "output_type": "stream",
     "text": [
      "MLflow tracking successful!\n",
      "\n",
      "==================================================\n",
      "RAGAS EVALUATION REPORT\n",
      "==================================================\n",
      "FAIL faithfulness: 0.520\n",
      "PASS answer_relevancy: 0.935\n",
      "FAIL context_precision: 0.684\n",
      "PASS context_recall: 1.000\n",
      "\n",
      "FAIL Overall Score: 0.785\n",
      "Target Score: 0.8\n",
      "Target not reached. Consider:\n",
      "   - Better quality prompts\n",
      "   - Improved chunking strategy\n",
      "   - Different retrieval parameters\n",
      "Evaluation complete! Run 'mlflow ui' to view results.\n"
     ]
    }
   ],
   "source": [
    "# Initialize RAGAS evaluator\n",
    "evaluator = RAGASEvaluator(chatbot)\n",
    "\n",
    "# Use sample test cases\n",
    "test_cases = evaluator.create_sample_test_cases()\n",
    "\n",
    "print(\"Test cases for evaluation:\")\n",
    "for i, case in enumerate(test_cases, 1):\n",
    "    print(f\"   {i}. {case['question']}\")\n",
    "\n",
    "print(f\"\\nRunning RAGAS evaluation with {len(test_cases)} test cases...\")\n",
    "scores = evaluator.evaluate_with_mlflow(test_cases, len(chunks))\n",
    "evaluator.print_evaluation_report(scores, config.TARGET_RAGAS_SCORE)\n",
    "\n",
    "print(\"Evaluation complete! Run 'mlflow ui' to view results.\")"
   ]
  }
 ],
 "metadata": {
  "kernelspec": {
   "display_name": "venv",
   "language": "python",
   "name": "python3"
  },
  "language_info": {
   "codemirror_mode": {
    "name": "ipython",
    "version": 3
   },
   "file_extension": ".py",
   "mimetype": "text/x-python",
   "name": "python",
   "nbconvert_exporter": "python",
   "pygments_lexer": "ipython3",
   "version": "3.11.11"
  }
 },
 "nbformat": 4,
 "nbformat_minor": 5
}
