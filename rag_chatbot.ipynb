{
 "cells": [
  {
   "cell_type": "markdown",
   "id": "7f228786",
   "metadata": {},
   "source": [
    "# RAG Chatbot for Primary School Students\n",
    "## Knowledge Base: Cells and Chemistry of Life\n",
    "\n",
    "This notebook demonstrates a complete RAG (Retrieval-Augmented Generation) chatbot system using:\n",
    "- **Local LLM**: Ollama Gemma3:4b\n",
    "- **Knowledge Base**: Cells and Chemistry of Life.pdf  \n",
    "- **Vector Store**: FAISS with sentence transformers\n",
    "- **Evaluation**: RAGAS framework with MLflow tracking\n",
    "- **Target Audience**: Primary school students (ages 6-12)"
   ]
  },
  {
   "cell_type": "code",
   "execution_count": null,
   "id": "f3d16ffd",
   "metadata": {},
   "outputs": [],
   "source": [
    "import sys\n",
    "import os\n",
    "sys.path.append('..\\src')\n",
    "\n",
    "from dotenv import load_dotenv\n",
    "load_dotenv()\n",
    "\n",
    "from src import Config, DocumentProcessor, VectorStore, RAGChatbot, RAGASEvaluator\n",
    "import mlflow\n",
    "import mlflow.sklearn\n",
    "from datetime import datetime\n",
    "import warnings\n",
    "warnings.filterwarnings('ignore')\n",
    "\n",
    "print(\"All modules imported successfully!\")\n",
    "\n",
    "# Validate API key availability\n",
    "config = Config()\n",
    "api_key_available = config.validate_api_key()\n",
    "\n",
    "if api_key_available:\n",
    "    print(\"OpenAI API key loaded successfully!\")\n",
    "else:\n",
    "    print(\"WARNING: OpenAI API key not found - RAGAS evaluation will fail\")\n",
    "    print(\"Please check your .env file\")\n",
    "\n",
    "# Initialize MLflow\n",
    "mlflow.set_experiment(\"RAG_Chatbot_RAGAS_Evaluation\")\n",
    "print(\"MLflow experiment initialized!\")\n",
    "\n",
    "print(f\"Looking for PDF: {config.DATA_DIR}/{config.PDF_FILE}\")"
   ]
  },
  {
   "cell_type": "markdown",
   "id": "006b1223",
   "metadata": {},
   "source": [
    "## 2. Document Processing\n",
    "Load and process the \"Cells and Chemistry of Life.pdf\" document"
   ]
  },
  {
   "cell_type": "code",
   "execution_count": null,
   "id": "16c3e1b4",
   "metadata": {},
   "outputs": [],
   "source": [
    "# Initialize document processor and load PDF\n",
    "doc_processor = DocumentProcessor(config)\n",
    "\n",
    "chunks = doc_processor.process_document()\n",
    "\n",
    "if chunks:\n",
    "    print(f\"\\n Document Processing Results:\")\n",
    "    print(f\"   Total chunks: {len(chunks)}\")\n",
    "    print(f\"   Average chunk size: {sum(len(c['content']) for c in chunks) // len(chunks)} characters\")\n",
    "    print(f\"\\n Sample chunk:\")\n",
    "    print(f\"   {chunks[0]['content'][:200]}...\")\n",
    "else:\n",
    "    print(\"No chunks created. Please check if the PDF file exists in the data/ directory.\")"
   ]
  },
  {
   "cell_type": "markdown",
   "id": "392eb537",
   "metadata": {},
   "source": [
    "## 3. Vector Store Setup\n",
    "Create embeddings and build FAISS index for similarity search"
   ]
  },
  {
   "cell_type": "code",
   "execution_count": null,
   "id": "bf6c36cb",
   "metadata": {},
   "outputs": [],
   "source": [
    "# Initialize vector store\n",
    "vector_store = VectorStore(config)\n",
    "\n",
    "# Try to load existing index, otherwise create new one\n",
    "if not vector_store.load_index():\n",
    "    print(\"Creating new vector index...\")\n",
    "    vector_store.setup_from_chunks(chunks)\n",
    "    vector_store.save_index()\n",
    "\n",
    "print(f\"\\nVector Store Ready!\")\n",
    "print(f\" Index size: {vector_store.index.ntotal} vectors\")\n",
    "print(f\" Embedding dimension: {vector_store.dimension}\")"
   ]
  },
  {
   "cell_type": "markdown",
   "id": "1f204788",
   "metadata": {},
   "source": [
    "## 4. RAG Chatbot Initialization\n",
    "Initialize the chatbot with Ollama integration"
   ]
  },
  {
   "cell_type": "code",
   "execution_count": null,
   "id": "7641f398",
   "metadata": {},
   "outputs": [],
   "source": [
    "try:\n",
    "    chatbot = RAGChatbot(vector_store, config)\n",
    "    print(\"RAG Chatbot initialized successfully!\")\n",
    "    print(f\"Model: {config.OLLAMA_MODEL}\")\n",
    "    print(f\"Similarity threshold: {config.SIMILARITY_THRESHOLD}\")\n",
    "    print(f\"Top-K retrieval: {config.TOP_K_DOCS}\")\n",
    "except Exception as e:\n",
    "    print(f\"Failed to initialize chatbot: {str(e)}\")"
   ]
  },
  {
   "cell_type": "markdown",
   "id": "66c492d8",
   "metadata": {},
   "source": [
    "## 6. Custom Question Testing\n",
    "Ask your own questions to the chatbot"
   ]
  },
  {
   "cell_type": "code",
   "execution_count": null,
   "id": "40a3d641",
   "metadata": {},
   "outputs": [],
   "source": [
    "# Interactive question function with language detection\n",
    "def ask_question(question: str):\n",
    "    \"\"\"Ask a question to the chatbot and display results with language info\"\"\"\n",
    "    result = chatbot.answer(question)\n",
    "    \n",
    "    print(f\"Question: {question}\")\n",
    "    print(f\"Detected Language: {result['detected_language']}\")\n",
    "    print(f\"Answer: {result['answer']}\")\n",
    "    print(f\"Details: In scope: {result['in_scope']} | Confidence: {result['confidence']:.3f}\")\n",
    "    print(\"-\" * 80)\n",
    "\n",
    "# Test with English questions\n",
    "print(\"=== ENGLISH QUESTIONS ===\")\n",
    "ask_question(\"What is the main function of mitochondria in a cell?\")\n",
    "ask_question(\"What is diffusion?\")\n",
    "\n",
    "# Test with Chinese questions\n",
    "print(\"\\n=== CHINESE QUESTIONS ===\")\n",
    "ask_question(\"细胞中线粒体的主要功能是什么？\")  # What is the main function of mitochondria in a cell?\n",
    "ask_question(\"什么是扩散？\")  # What is diffusion?\n",
    "\n",
    "# Test with Malay questions\n",
    "print(\"\\n=== MALAY QUESTIONS ===\")\n",
    "ask_question(\"Apakah fungsi utama mitokondria dalam sel?\")  # What is the main function of mitochondria in a cell?\n",
    "ask_question(\"Apakah itu resapan?\")  # What is diffusion?\n",
    "\n",
    "# Test out-of-scope questions in different languages\n",
    "print(\"\\n=== OUT-OF-SCOPE QUESTIONS ===\")\n",
    "ask_question(\"What is the weather today?\")  # English\n",
    "ask_question(\"今天天气怎么样？\")  # Chinese: What's the weather today?\n",
    "ask_question(\"Bagaimana cuaca hari ini?\")  # Malay: What's the weather today?"
   ]
  },
  {
   "cell_type": "markdown",
   "id": "727047a8",
   "metadata": {},
   "source": [
    "## 7. RAGAS Evaluation with MLflow Tracking\n",
    "Evaluate the chatbot performance using RAGAS metrics and track with MLflow"
   ]
  },
  {
   "cell_type": "code",
   "execution_count": null,
   "id": "df3eea86",
   "metadata": {},
   "outputs": [],
   "source": [
    "# Initialize RAGAS evaluator\n",
    "evaluator = RAGASEvaluator(chatbot)\n",
    "\n",
    "# Use sample test cases\n",
    "test_cases = evaluator.create_sample_test_cases()\n",
    "\n",
    "print(\"Test cases for evaluation:\")\n",
    "for i, case in enumerate(test_cases, 1):\n",
    "    print(f\"   {i}. {case['question']}\")\n",
    "\n",
    "print(f\"\\nRunning RAGAS evaluation with {len(test_cases)} test cases...\")\n",
    "scores = evaluator.evaluate_with_mlflow(test_cases, len(chunks))\n",
    "evaluator.print_evaluation_report(scores, config.TARGET_RAGAS_SCORE)\n",
    "\n",
    "print(\"Evaluation complete! Run 'mlflow ui' to view results.\")"
   ]
  }
 ],
 "metadata": {
  "kernelspec": {
   "display_name": "venv",
   "language": "python",
   "name": "python3"
  },
  "language_info": {
   "codemirror_mode": {
    "name": "ipython",
    "version": 3
   },
   "file_extension": ".py",
   "mimetype": "text/x-python",
   "name": "python",
   "nbconvert_exporter": "python",
   "pygments_lexer": "ipython3",
   "version": "3.11.11"
  }
 },
 "nbformat": 4,
 "nbformat_minor": 5
}
